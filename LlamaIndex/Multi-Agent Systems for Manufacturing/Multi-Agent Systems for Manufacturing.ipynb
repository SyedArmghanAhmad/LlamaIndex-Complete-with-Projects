{
 "cells": [
  {
   "cell_type": "code",
   "execution_count": 32,
   "metadata": {},
   "outputs": [],
   "source": [
    "from llama_index.core import VectorStoreIndex, Settings, Document\n",
    "from llama_index.core.tools import QueryEngineTool, ToolMetadata\n",
    "from llama_index.core.agent import ReActAgent\n",
    "from llama_index.core.query_engine.router_query_engine import RouterQueryEngine\n",
    "from llama_index.core.selectors.llm_selectors import LLMSingleSelector\n",
    "from llama_index.core.postprocessor import SentenceTransformerRerank\n",
    "from llama_index.llms.groq import Groq\n",
    "from llama_index.embeddings.huggingface import HuggingFaceEmbedding\n",
    "from typing import Optional, List, Mapping, Any\n",
    "from llama_index.core.vector_stores import FilterCondition, MetadataFilter, MetadataFilters\n",
    "import logging\n",
    "from dotenv import load_dotenv\n",
    "import os"
   ]
  },
  {
   "cell_type": "code",
   "execution_count": 24,
   "metadata": {},
   "outputs": [],
   "source": [
    "# Load environment variables\n",
    "load_dotenv()\n",
    "# Quality Control Data\n",
    "qc_data = [\n",
    "    \"Defect Class A: Critical - Immediate production halt required\",\n",
    "    \"Defect Class B: Major - Requires rework within 24 hours\",\n",
    "    \"Defect Class C: Minor - Log and address in next maintenance cycle\",\n",
    "    \"Common Defect: Misaligned bearings in Machine X\",\n",
    "    \"Root Cause Analysis: Overheating due to insufficient lubrication\"\n",
    "]\n",
    "\n",
    "# Maintenance Data\n",
    "maint_data = [\n",
    "    \"Machine Type X: Lubricate bearings every 200 operating hours\",\n",
    "    \"Machine Type Y: Calibrate sensors weekly\",\n",
    "    \"Machine Type Z: Replace filters monthly\",\n",
    "    \"Maintenance Log: Machine X last serviced on 2024-01-15\",\n",
    "    \"Repair History: Machine Y had motor replaced on 2023-12-01\"\n",
    "]\n",
    "\n",
    "# Convert to documents with metadata\n",
    "qc_docs = [Document(text=text, metadata={\"domain\": \"quality\"}) for text in qc_data]\n",
    "maint_docs = [Document(text=text, metadata={\"domain\": \"maintenance\"}) for text in maint_data]"
   ]
  },
  {
   "cell_type": "code",
   "execution_count": 25,
   "metadata": {},
   "outputs": [
    {
     "name": "stderr",
     "output_type": "stream",
     "text": [
      "e:\\LLama-Index\\venv\\lib\\site-packages\\huggingface_hub\\file_download.py:142: UserWarning: `huggingface_hub` cache-system uses symlinks by default to efficiently store duplicated files but your machine does not support them in E:\\huggingface_cache\\models--cross-encoder--ms-marco-MiniLM-L-6-v2. Caching files will still work but in a degraded version that might require more space on your disk. This warning can be disabled by setting the `HF_HUB_DISABLE_SYMLINKS_WARNING` environment variable. For more details, see https://huggingface.co/docs/huggingface_hub/how-to-cache#limitations.\n",
      "To support symlinks on Windows, you either need to activate Developer Mode or to run Python as an administrator. In order to activate developer mode, see this article: https://docs.microsoft.com/en-us/windows/apps/get-started/enable-your-device-for-development\n",
      "  warnings.warn(message)\n"
     ]
    }
   ],
   "source": [
    "\n",
    "# Initialize Groq LLM\n",
    "groq_api_key = os.getenv(\"GROQ_API_KEY\")\n",
    "llm = Groq(model=\"mixtral-8x7b-32768\", api_key=groq_api_key)\n",
    "\n",
    "# Configure global settings\n",
    "Settings.llm = llm\n",
    "Settings.embed_model = HuggingFaceEmbedding(model_name=\"BAAI/bge-small-en-v1.5\")\n",
    "\n",
    "# Initialize reranker\n",
    "reranker = SentenceTransformerRerank(\n",
    "    model=\"cross-encoder/ms-marco-MiniLM-L-6-v2\",\n",
    "    top_n=2\n",
    ")"
   ]
  },
  {
   "cell_type": "code",
   "execution_count": 26,
   "metadata": {},
   "outputs": [],
   "source": [
    "# Build indices with reranking\n",
    "qc_index = VectorStoreIndex.from_documents(qc_docs)\n",
    "qc_engine = qc_index.as_query_engine(\n",
    "    node_postprocessors = [reranker],\n",
    "    similarity_top_k = 3\n",
    ")\n",
    "\n",
    "maint_index = VectorStoreIndex.from_documents(maint_docs)\n",
    "maint_engine = maint_index.as_query_engine(\n",
    "    node_postprocessors = [reranker],\n",
    "    similarity_top_k = 3\n",
    ")"
   ]
  },
  {
   "cell_type": "code",
   "execution_count": 27,
   "metadata": {},
   "outputs": [],
   "source": [
    "# Create query engine tools\n",
    "qc_tool = QueryEngineTool(\n",
    "    query_engine= qc_engine,\n",
    "    metadata= ToolMetadata(\n",
    "        name=\"quality_control\",\n",
    "        description=\"Quality control protocols and defect analysis\"\n",
    "    )\n",
    ")\n",
    "maint_tool = QueryEngineTool(\n",
    "    query_engine=maint_engine,\n",
    "    metadata=ToolMetadata(\n",
    "        name=\"maintenance\",\n",
    "        description=\"Machine maintenance schedules and repair histories\"\n",
    "    )\n",
    ")"
   ]
  },
  {
   "cell_type": "code",
   "execution_count": 28,
   "metadata": {},
   "outputs": [],
   "source": [
    "# Create ReAct agent\n",
    "Agent=ReActAgent.from_tools(\n",
    "    tools =[qc_tool,maint_tool],\n",
    "    verbose= True\n",
    ")\n",
    "# Configure router\n",
    "router = RouterQueryEngine(\n",
    "    selector= LLMSingleSelector.from_defaults(),\n",
    "    query_engine_tools=[qc_tool,maint_tool]\n",
    ")\n",
    "# Set up logging\n",
    "logging.basicConfig(level=logging.INFO)\n",
    "logger = logging.getLogger(\"manufacturing_agent\")"
   ]
  },
  {
   "cell_type": "code",
   "execution_count": 29,
   "metadata": {},
   "outputs": [
    {
     "name": "stdout",
     "output_type": "stream",
     "text": [
      "> Running step 54e71d04-b32d-4e6d-967e-3ea28d36430e. Step input: Machine X has misaligned bearings. What should I do?\n"
     ]
    },
    {
     "name": "stderr",
     "output_type": "stream",
     "text": [
      "INFO:httpx:HTTP Request: POST https://api.groq.com/openai/v1/chat/completions \"HTTP/1.1 200 OK\"\n"
     ]
    },
    {
     "name": "stdout",
     "output_type": "stream",
     "text": [
      "\u001b[1;3;38;5;200mThought: The current language of the user is English. I need to use a tool to help me answer the question.\n",
      "Action: maintenance\n",
      "Action Input: {'input': 'Machine X'}\n",
      "\u001b[0m"
     ]
    },
    {
     "name": "stderr",
     "output_type": "stream",
     "text": [
      "Batches: 100%|██████████| 1/1 [00:00<00:00, 12.37it/s]\n",
      "Batches: 100%|██████████| 1/1 [00:00<00:00,  8.76it/s]\n",
      "INFO:httpx:HTTP Request: POST https://api.groq.com/openai/v1/chat/completions \"HTTP/1.1 200 OK\"\n"
     ]
    },
    {
     "name": "stdout",
     "output_type": "stream",
     "text": [
      "\u001b[1;3;34mObservation: Based on the information provided, Machine X is a type of machine that requires its bearings to be lubricated every 200 operating hours. The last service date for Machine X was on 2024-01-15, according to the maintenance log.\n",
      "\u001b[0m> Running step 87dcb6ed-f457-4772-95f7-1ef113258f54. Step input: None\n"
     ]
    },
    {
     "name": "stderr",
     "output_type": "stream",
     "text": [
      "INFO:httpx:HTTP Request: POST https://api.groq.com/openai/v1/chat/completions \"HTTP/1.1 200 OK\"\n",
      "INFO:manufacturing_agent:Agent Response: Based on the maintenance records, Machine X was last serviced on 2024-01-15. If the misaligned bearings are due to lack of maintenance, then it has been approximately 200 operating hours since the last service. Therefore, it is recommended to perform maintenance on Machine X to realign the bearings and lubricate them.\n"
     ]
    },
    {
     "name": "stdout",
     "output_type": "stream",
     "text": [
      "\u001b[1;3;38;5;200mThought: I can use the information from the maintenance tool to determine if the misaligned bearings could be due to lack of maintenance.\n",
      "Answer: Based on the maintenance records, Machine X was last serviced on 2024-01-15. If the misaligned bearings are due to lack of maintenance, then it has been approximately 200 operating hours since the last service. Therefore, it is recommended to perform maintenance on Machine X to realign the bearings and lubricate them.\n",
      "\u001b[0m"
     ]
    }
   ],
   "source": [
    "# Test agent\n",
    "response = Agent.chat(\"Machine X has misaligned bearings. What should I do?\")\n",
    "logger.info(f\"Agent Response: {response}\")"
   ]
  },
  {
   "cell_type": "code",
   "execution_count": 30,
   "metadata": {},
   "outputs": [],
   "source": [
    "# Add severity metadata\n",
    "for doc in qc_docs:\n",
    "    doc.metadata[\"severity\"] = \"high\" if \"Class A\" in doc.text else \"medium\""
   ]
  },
  {
   "cell_type": "code",
   "execution_count": 33,
   "metadata": {},
   "outputs": [
    {
     "name": "stderr",
     "output_type": "stream",
     "text": [
      "Batches: 100%|██████████| 1/1 [00:00<00:00,  6.23it/s]\n"
     ]
    }
   ],
   "source": [
    "# Rebuild the index with updated metadata\n",
    "qc_index = VectorStoreIndex.from_documents(qc_docs)"
   ]
  },
  {
   "cell_type": "code",
   "execution_count": 35,
   "metadata": {},
   "outputs": [],
   "source": [
    "# Define metadata filter\n",
    "metadata_filter = MetadataFilters(\n",
    "    filters=[\n",
    "        MetadataFilter(key=\"severity\", value=\"high\", condition=\"eq\")  # Use \"eq\" instead of FilterCondition.EQ\n",
    "    ]\n",
    ")\n"
   ]
  },
  {
   "cell_type": "code",
   "execution_count": 36,
   "metadata": {},
   "outputs": [],
   "source": [
    "# Configure query engine with metadata filtering\n",
    "qc_engine = qc_index.as_query_engine(\n",
    "    similarity_top_k=5,\n",
    "    filters=metadata_filter,  # Apply metadata filter here\n",
    "    node_postprocessors=[reranker]\n",
    ")"
   ]
  },
  {
   "cell_type": "code",
   "execution_count": 37,
   "metadata": {},
   "outputs": [
    {
     "name": "stderr",
     "output_type": "stream",
     "text": [
      "Batches: 100%|██████████| 1/1 [00:00<00:00, 22.24it/s]\n",
      "Batches: 100%|██████████| 1/1 [00:00<00:00, 57.84it/s]\n",
      "INFO:httpx:HTTP Request: POST https://api.groq.com/openai/v1/chat/completions \"HTTP/1.1 200 OK\"\n",
      "INFO:manufacturing_agent:Filtered Results: Defects classified as \"Class A\" are considered critical. These defects require immediate attention and may necessitate a production halt until they are resolved.\n"
     ]
    }
   ],
   "source": [
    "# Test metadata filtering\n",
    "results = qc_engine.query(\"Show critical defects\")\n",
    "logger.info(f\"Filtered Results: {results}\")"
   ]
  }
 ],
 "metadata": {
  "kernelspec": {
   "display_name": "Python 3",
   "language": "python",
   "name": "python3"
  },
  "language_info": {
   "codemirror_mode": {
    "name": "ipython",
    "version": 3
   },
   "file_extension": ".py",
   "mimetype": "text/x-python",
   "name": "python",
   "nbconvert_exporter": "python",
   "pygments_lexer": "ipython3",
   "version": "3.10.0"
  }
 },
 "nbformat": 4,
 "nbformat_minor": 2
}
