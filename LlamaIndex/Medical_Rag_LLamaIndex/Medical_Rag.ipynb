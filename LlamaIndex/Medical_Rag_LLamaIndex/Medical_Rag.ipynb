{
 "cells": [
  {
   "cell_type": "code",
   "execution_count": 1,
   "metadata": {},
   "outputs": [
    {
     "name": "stdout",
     "output_type": "stream",
     "text": [
      "resource module not available on Windows\n"
     ]
    },
    {
     "name": "stderr",
     "output_type": "stream",
     "text": [
      "e:\\LLama-Index\\venv\\lib\\site-packages\\tqdm\\auto.py:21: TqdmWarning: IProgress not found. Please update jupyter and ipywidgets. See https://ipywidgets.readthedocs.io/en/stable/user_install.html\n",
      "  from .autonotebook import tqdm as notebook_tqdm\n",
      "e:\\LLama-Index\\venv\\lib\\site-packages\\transformers\\utils\\hub.py:106: FutureWarning: Using `TRANSFORMERS_CACHE` is deprecated and will be removed in v5 of Transformers. Use `HF_HOME` instead.\n",
      "  warnings.warn(\n"
     ]
    }
   ],
   "source": [
    "from llama_index.core import VectorStoreIndex, SimpleDirectoryReader, Settings\n",
    "from llama_index.core.postprocessor import SimilarityPostprocessor, KeywordNodePostprocessor\n",
    "from llama_index.retrievers.bm25 import BM25Retriever\n",
    "from llama_index.core.response_synthesizers import TreeSummarize\n",
    "from llama_index.llms.groq import Groq\n",
    "from llama_index.embeddings.huggingface import HuggingFaceEmbedding\n",
    "from llama_index.core.query_engine import RetrieverQueryEngine\n",
    "import os\n",
    "from dotenv import load_dotenv\n",
    "\n",
    "load_dotenv()\n",
    "# Configure settings\n",
    "Settings.llm = Groq(model=\"llama-3.1-8b-instant\", api_key=os.getenv(\"GROQ_API_KEY\"))\n",
    "Settings.embed_model = HuggingFaceEmbedding(model_name=\"BAAI/bge-small-en-v1.5\")"
   ]
  },
  {
   "cell_type": "code",
   "execution_count": 2,
   "metadata": {},
   "outputs": [],
   "source": [
    "# Load and index documents\n",
    "documents = SimpleDirectoryReader(\"medical_papers\").load_data()\n",
    "index = VectorStoreIndex.from_documents(documents)\n",
    "\n",
    "# Create hybrid retriever\n",
    "vector_retriever = index.as_retriever(similarity_top_k=10)\n",
    "bm25_retriever = BM25Retriever.from_defaults(index=index, similarity_top_k=5)\n",
    "\n"
   ]
  },
  {
   "cell_type": "code",
   "execution_count": 5,
   "metadata": {},
   "outputs": [],
   "source": [
    "class HybridRetriever:\n",
    "    def __init__(self, vector_retriever, bm25_retriever):\n",
    "        self.vector_retriever = vector_retriever\n",
    "        self.bm25_retriever = bm25_retriever\n",
    "\n",
    "    def retrieve(self, query):\n",
    "        vector_nodes = self.vector_retriever.retrieve(query)\n",
    "        bm25_nodes = self.bm25_retriever.retrieve(query)\n",
    "        all_nodes = vector_nodes + bm25_nodes\n",
    "        return sorted(all_nodes, key=lambda n: n.score, reverse=True)[:15]\n",
    "\n"
   ]
  },
  {
   "cell_type": "code",
   "execution_count": 6,
   "metadata": {},
   "outputs": [],
   "source": [
    "# Create query engine\n",
    "query_engine = RetrieverQueryEngine.from_args(\n",
    "    retriever=HybridRetriever(vector_retriever, bm25_retriever),\n",
    "    node_postprocessors=[\n",
    "        SimilarityPostprocessor(similarity_cutoff=0.3),\n",
    "        KeywordNodePostprocessor(\n",
    "            required_keywords=[\"treatment\", \"study\", \"patient\"],\n",
    "            exclude_keywords=[\"animal\", \"in vitro\"]\n",
    "        )\n",
    "    ],\n",
    "    response_mode=\"tree_summarize\"\n",
    ")\n"
   ]
  },
  {
   "cell_type": "code",
   "execution_count": 7,
   "metadata": {},
   "outputs": [
    {
     "name": "stdout",
     "output_type": "stream",
     "text": [
      "Answer: The treatments for diabetes insipidus include the use of synthetic analogues of vasopressin, such as desmopressin and DDAVP, which can be administered orally, intranasally, or subcutaneously to help regulate fluid balance and reduce urine production. In addition to medication, patients may be advised to drink plenty of fluids to help dilute their urine and reduce the risk of dehydration. Some patients may also need to follow a specific diet or fluid intake plan to help manage their condition. Surgery may be an option for some patients, particularly those with pituitary or suprasellar tumors that are causing the condition. In infants and young children, treatment may involve the use of intranasal desmopressin or subcutaneous DDAVP, and in some cases, a combination of medication and fluid management may be necessary.\n",
      "Sources:\n",
      "- Acute suppression of plasma \n",
      "vasopressin and thirst after drinking in hypernatremic humans. \n",
      "Am J Physiol 1987; 252:R1138–42. https://doi.org/10.1152/\n",
      "ajpregu.1987.252.6.R1138.\n",
      "75. Seckl JR, Williams ... (Score: 4.96)\n",
      "- Management of Diabetes Insipidus following Surgery for Pituitary and Suprasellar Tumours\n",
      "364 | SQU Medical Journal, August 2021, Volume 21, Issue 3\n",
      "90. Blanco EJ, Lane AH, Aijaz N, Blumberg D, Wilson ... (Score: 4.94)\n",
      "- 64. Chanson P , Jedynak CP , Dabrowski G, Rohan J, Bouchama A, \n",
      "Rohan-Chabot P , et al. Ultralow doses of vasopressin in the \n",
      "management of diabetes insipidus. Crit Care Med 1987; 15:44–6.  \n",
      "https://d... (Score: 4.58)\n",
      "- J Pediatr Endocrinol Metab 2007; \n",
      "20:459–69. https://doi.org/10.1515/jpem.2007.20.4.459.\n",
      "85. Østerberg O, Balchen T, Riis A, Senderovitz T. Pharmacokinetics \n",
      "of desmopressin in children and adults usi... (Score: 4.39)\n",
      "- Management of Diabetes Insipidus following Surgery for Pituitary and Suprasellar Tumours\n",
      "364 | SQU Medical Journal, August 2021, Volume 21, Issue 3\n",
      "90. Blanco EJ, Lane AH, Aijaz N, Blumberg D, Wilson ... (Score: 0.77)\n",
      "- Management of Diabetes Insipidus following Surgery for Pituitary and Suprasellar Tumours\n",
      "362 | SQU Medical Journal, August 2021, Volume 21, Issue 3\n",
      "20. Qureshi AI, Suri MF, Sung GY, Straw R, Yahia AM,... (Score: 0.75)\n",
      "- 64. Chanson P , Jedynak CP , Dabrowski G, Rohan J, Bouchama A, \n",
      "Rohan-Chabot P , et al. Ultralow doses of vasopressin in the \n",
      "management of diabetes insipidus. Crit Care Med 1987; 15:44–6.  \n",
      "https://d... (Score: 0.72)\n",
      "- Endocr Pract 2017; 23:309–17. https://doi.\n",
      "org/10.4158/EP161616.OR.\n",
      "39. Gubbi S, Hannah-Shmouni F, Koch CA, Verbalis JG. Diagnostic \n",
      "testing for diabetes insipidus. In: Feingold KR, Anawalt B, \n",
      "Boyce ... (Score: 0.71)\n",
      "- Mussa H. Almalki, Maswood M. Ahmad, Imad Brema, Mohammed Almehthel, Khaled M AlDahmani, \n",
      "Moeber Mahzari and Salem A Beshyah\n",
      "Review  | 355\n",
      "DI and primary polydipsia) has revolutionised the \n",
      "management ... (Score: 0.70)\n",
      "- Management of Diabetes Insipidus following Surgery for Pituitary and Suprasellar Tumours\n",
      "360 | SQU Medical Journal, August 2021, Volume 21, Issue 3\n",
      "desmopressin  oral  formulations  \n",
      "– oral  melt\n",
      "Sinc... (Score: 0.70)\n",
      "- J Pediatr Endocrinol Metab 2007; \n",
      "20:459–69. https://doi.org/10.1515/jpem.2007.20.4.459.\n",
      "85. Østerberg O, Balchen T, Riis A, Senderovitz T. Pharmacokinetics \n",
      "of desmopressin in children and adults usi... (Score: 0.69)\n",
      "- 42,58 The general strategies of \n",
      "management of CDI are presented in Table 2. The \n",
      "acute phase management covers the first two phases \n",
      "of the triphasic water dysregulation phenomenon.\n",
      "Acute Management ... (Score: 0.68)\n"
     ]
    }
   ],
   "source": [
    "# Test query\n",
    "response = query_engine.query(\"What are the treatments for diabetes insipidus?\")\n",
    "print(\"Answer:\", response)\n",
    "print(\"Sources:\")\n",
    "for node in response.source_nodes:\n",
    "    print(f\"- {node.text[:200]}... (Score: {node.score:.2f})\")"
   ]
  },
  {
   "cell_type": "code",
   "execution_count": 8,
   "metadata": {},
   "outputs": [
    {
     "name": "stdout",
     "output_type": "stream",
     "text": [
      "\n",
      "Answer: The management of diabetes insipidus in adults and pediatric patients differs due to variations in underlying causes, severity, and response to treatment. Pediatric patients require more intensive monitoring and careful dose titration to prevent hyponatremia, particularly in the first 24-48 hours postoperatively. They also require more frequent and aggressive management of the condition due to their smaller body size and higher fluid requirements.\n",
      "\n",
      "In contrast, adults do not require the same level of intensive monitoring, and their treatment approach is similar to that in young adults. However, elderly adults face a higher risk of developing hyponatremia, primarily when intranasal DDAVP is used, due to abnormalities of osmoregulation of thirst and fluid intake, as well as increased renal sensitivity to DDAVP.\n",
      "\n",
      "Additionally, the dosage of DDAVP may need to be adjusted in pediatric patients, and they require education about the features of water intoxication and the hazards of excessive fluid intake. The use of desmopressin (DDAVP) in pediatric patients may also be more complex, with a need for careful dosing and monitoring to avoid complications such as hyponatremia.\n",
      "\n",
      "Overall, while the fundamental principles of managing diabetes insipidus remain the same in adults and pediatric patients, the specific challenges and considerations may differ significantly between these two age groups.\n",
      "\n",
      "Sources:\n",
      "- Management of Diabetes Insipidus following Surgery for Pituitary and Suprasellar Tumours\n",
      "364 | SQU Medical Journal, August 2021, Volume 21, Issue 3\n",
      "90. Blanco EJ, Lane AH, Aijaz N, Blumberg D, Wilson ... (Score: 9.26)\n",
      "- J Pediatr Endocrinol Metab 2007; \n",
      "20:459–69. https://doi.org/10.1515/jpem.2007.20.4.459.\n",
      "85. Østerberg O, Balchen T, Riis A, Senderovitz T. Pharmacokinetics \n",
      "of desmopressin in children and adults usi... (Score: 8.31)\n",
      "- Acute suppression of plasma \n",
      "vasopressin and thirst after drinking in hypernatremic humans. \n",
      "Am J Physiol 1987; 252:R1138–42. https://doi.org/10.1152/\n",
      "ajpregu.1987.252.6.R1138.\n",
      "75. Seckl JR, Williams ... (Score: 8.07)\n",
      "- Management of Diabetes Insipidus following Surgery for Pituitary and Suprasellar Tumours\n",
      "360 | SQU Medical Journal, August 2021, Volume 21, Issue 3\n",
      "desmopressin  oral  formulations  \n",
      "– oral  melt\n",
      "Sinc... (Score: 6.86)\n",
      "- Management of Diabetes Insipidus following Surgery for Pituitary and Suprasellar Tumours\n",
      "358 | SQU Medical Journal, August 2021, Volume 21, Issue 3\n",
      "(NPV) of 95%. The performance of the test was better... (Score: 6.83)\n",
      "- Management of Diabetes Insipidus following Surgery for Pituitary and Suprasellar Tumours\n",
      "364 | SQU Medical Journal, August 2021, Volume 21, Issue 3\n",
      "90. Blanco EJ, Lane AH, Aijaz N, Blumberg D, Wilson ... (Score: 0.79)\n",
      "- Management of Diabetes Insipidus following Surgery for Pituitary and Suprasellar Tumours\n",
      "362 | SQU Medical Journal, August 2021, Volume 21, Issue 3\n",
      "20. Qureshi AI, Suri MF, Sung GY, Straw R, Yahia AM,... (Score: 0.76)\n",
      "- 64. Chanson P , Jedynak CP , Dabrowski G, Rohan J, Bouchama A, \n",
      "Rohan-Chabot P , et al. Ultralow doses of vasopressin in the \n",
      "management of diabetes insipidus. Crit Care Med 1987; 15:44–6.  \n",
      "https://d... (Score: 0.74)\n",
      "- J Pediatr Endocrinol Metab 2007; \n",
      "20:459–69. https://doi.org/10.1515/jpem.2007.20.4.459.\n",
      "85. Østerberg O, Balchen T, Riis A, Senderovitz T. Pharmacokinetics \n",
      "of desmopressin in children and adults usi... (Score: 0.73)\n",
      "- Mussa H. Almalki, Maswood M. Ahmad, Imad Brema, Mohammed Almehthel, Khaled M AlDahmani, \n",
      "Moeber Mahzari and Salem A Beshyah\n",
      "Review  | 355\n",
      "DI and primary polydipsia) has revolutionised the \n",
      "management ... (Score: 0.73)\n",
      "- Endocr Pract 2017; 23:309–17. https://doi.\n",
      "org/10.4158/EP161616.OR.\n",
      "39. Gubbi S, Hannah-Shmouni F, Koch CA, Verbalis JG. Diagnostic \n",
      "testing for diabetes insipidus. In: Feingold KR, Anawalt B, \n",
      "Boyce ... (Score: 0.72)\n",
      "- Management of Diabetes Insipidus following Surgery for Pituitary and Suprasellar Tumours\n",
      "360 | SQU Medical Journal, August 2021, Volume 21, Issue 3\n",
      "desmopressin  oral  formulations  \n",
      "– oral  melt\n",
      "Sinc... (Score: 0.72)\n"
     ]
    },
    {
     "ename": "",
     "evalue": "",
     "output_type": "error",
     "traceback": [
      "\u001b[1;31mThe Kernel crashed while executing code in the current cell or a previous cell. \n",
      "\u001b[1;31mPlease review the code in the cell(s) to identify a possible cause of the failure. \n",
      "\u001b[1;31mClick <a href='https://aka.ms/vscodeJupyterKernelCrash'>here</a> for more info. \n",
      "\u001b[1;31mView Jupyter <a href='command:jupyter.viewOutput'>log</a> for further details."
     ]
    }
   ],
   "source": [
    "# Query interface\n",
    "while True:\n",
    "    query = input(\"\\nEnter your medical question (or 'exit' to quit): \")\n",
    "    if query.lower() == \"exit\":\n",
    "        break\n",
    "\n",
    "    response = query_engine.query(query)\n",
    "    if not response.source_nodes:\n",
    "        print(\"No relevant information found. Please try rephrasing your question.\")\n",
    "    else:\n",
    "        print(f\"\\nAnswer: {response}\\n\")\n",
    "        print(\"Sources:\")\n",
    "        for node in response.source_nodes:\n",
    "            if node.score > 0.7:  # Only show high-confidence sources\n",
    "                print(f\"- {node.text[:200]}... (Score: {node.score:.2f})\")"
   ]
  }
 ],
 "metadata": {
  "kernelspec": {
   "display_name": "Python 3",
   "language": "python",
   "name": "python3"
  },
  "language_info": {
   "codemirror_mode": {
    "name": "ipython",
    "version": 3
   },
   "file_extension": ".py",
   "mimetype": "text/x-python",
   "name": "python",
   "nbconvert_exporter": "python",
   "pygments_lexer": "ipython3",
   "version": "3.10.0"
  }
 },
 "nbformat": 4,
 "nbformat_minor": 2
}
