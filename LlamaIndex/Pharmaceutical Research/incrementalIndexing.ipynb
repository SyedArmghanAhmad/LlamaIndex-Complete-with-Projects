{
 "cells": [
  {
   "cell_type": "code",
   "execution_count": 4,
   "metadata": {},
   "outputs": [],
   "source": [
    "from llama_index.core import VectorStoreIndex, Settings, Document,StorageContext\n",
    "from llama_index.core.tools import QueryEngineTool, ToolMetadata\n",
    "from llama_index.core.agent import ReActAgent\n",
    "from llama_index.core.query_engine.router_query_engine import RouterQueryEngine\n",
    "from llama_index.core.selectors.llm_selectors import LLMSingleSelector\n",
    "from llama_index.core.postprocessor import SentenceTransformerRerank\n",
    "from llama_index.llms.groq import Groq\n",
    "from llama_index.embeddings.huggingface import HuggingFaceEmbedding\n",
    "from typing import Optional, List, Mapping, Any\n",
    "from llama_index.core.vector_stores import FilterCondition, MetadataFilter, MetadataFilters\n",
    "import logging\n",
    "from dotenv import load_dotenv\n",
    "import os\n",
    "import uuid"
   ]
  },
  {
   "cell_type": "code",
   "execution_count": 5,
   "metadata": {},
   "outputs": [],
   "source": [
    "# Initial dataset\n",
    "initial_data = [\n",
    "    \"Drug X-101: Shows 75% efficacy in Phase II trials for Alzheimer's\",\n",
    "    \"Compound Y-202: Potential neuroprotective effects observed in mice models\",\n",
    "    \"Drug Z-303: FDA approval pending for Phase III trials in Parkinson's\"\n",
    "]\n",
    "\n",
    "# Daily updates (simulated)\n",
    "daily_updates = [\n",
    "    \"Drug X-101: Phase III trial approved by FDA\",\n",
    "    \"Compound Y-202: Patent filed in US and EU\",\n",
    "    \"Drug Z-303: New side effects reported in Phase III trials\"\n",
    "]\n",
    "\n",
    "# Convert to LlamaIndex documents\n",
    "initial_docs = [Document(text=text, metadata={\"version\": \"v1\"}) for text in initial_data]\n",
    "update_docs = [Document(text=text, metadata={\"version\": \"v2\"}) for text in daily_updates]"
   ]
  },
  {
   "cell_type": "code",
   "execution_count": 6,
   "metadata": {},
   "outputs": [],
   "source": [
    "# Create storage context\n",
    "storage_context = StorageContext.from_defaults()\n",
    "current_version = str(uuid.uuid4())  # Unique version ID"
   ]
  },
  {
   "cell_type": "code",
   "execution_count": 8,
   "metadata": {},
   "outputs": [],
   "source": [
    "# Initialize Groq LLM\n",
    "groq_api_key = os.getenv(\"GROQ_API_KEY\")\n",
    "llm = Groq(model=\"mixtral-8x7b-32768\", api_key=groq_api_key)\n",
    "\n",
    "# Configure global settings\n",
    "Settings.llm = llm\n",
    "Settings.embed_model = HuggingFaceEmbedding(model_name=\"BAAI/bge-small-en-v1.5\")\n",
    "\n"
   ]
  },
  {
   "cell_type": "code",
   "execution_count": 9,
   "metadata": {},
   "outputs": [],
   "source": [
    "# Build initial index\n",
    "index = VectorStoreIndex.from_documents(\n",
    "    initial_docs,\n",
    "    storage_context=storage_context\n",
    ")\n"
   ]
  },
  {
   "cell_type": "code",
   "execution_count": 10,
   "metadata": {},
   "outputs": [
    {
     "name": "stdout",
     "output_type": "stream",
     "text": [
      "Initial index created and persisted as version e0f18a58-1b41-4180-abdd-a6f81fb4ccee.\n"
     ]
    }
   ],
   "source": [
    "# Persist the index\n",
    "storage_context.persist(persist_dir=f\"./drug_index_{current_version}\")\n",
    "print(f\"Initial index created and persisted as version {current_version}.\")"
   ]
  },
  {
   "cell_type": "code",
   "execution_count": 13,
   "metadata": {},
   "outputs": [],
   "source": [
    "from llama_index.core import load_index_from_storage\n",
    "# Load the existing index\n",
    "storage_context = StorageContext.from_defaults(persist_dir=f\"./drug_index_{current_version}\")\n",
    "\n",
    "index = load_index_from_storage(storage_context)"
   ]
  },
  {
   "cell_type": "code",
   "execution_count": 14,
   "metadata": {},
   "outputs": [],
   "source": [
    "# Add new documents\n",
    "index.insert_nodes(update_docs)"
   ]
  },
  {
   "cell_type": "code",
   "execution_count": 15,
   "metadata": {},
   "outputs": [
    {
     "name": "stdout",
     "output_type": "stream",
     "text": [
      "Index updated and persisted as version 49d1d346-2895-491f-bc73-bfae6cbba109.\n"
     ]
    }
   ],
   "source": [
    "# Persist the updated index\n",
    "new_version = str(uuid.uuid4())\n",
    "storage_context.persist(persist_dir=f\"./drug_index_{new_version}\")\n",
    "print(f\"Index updated and persisted as version {new_version}.\")"
   ]
  },
  {
   "cell_type": "code",
   "execution_count": 17,
   "metadata": {},
   "outputs": [],
   "source": [
    "# Load a specific version\n",
    "def load_version(version_id):\n",
    "    storage_context = StorageContext.from_defaults(persist_dir=f\"./drug_index_{version_id}\")\n",
    "    return load_index_from_storage(StorageContext.from_defaults(persist_dir=f\"./drug_index_{version_id}\"))"
   ]
  },
  {
   "cell_type": "code",
   "execution_count": 18,
   "metadata": {},
   "outputs": [
    {
     "name": "stdout",
     "output_type": "stream",
     "text": [
      "Version 1 Response:\n",
      " Drug X-101 has demonstrated 75% efficacy in Phase II trials for Alzheimer's.\n"
     ]
    }
   ],
   "source": [
    "# Query version 1\n",
    "v1_index = load_version(current_version)\n",
    "v1_engine = v1_index.as_query_engine()\n",
    "v1_response = v1_engine.query(\"What is the status of Drug X-101?\")\n",
    "print(\"Version 1 Response:\\n\", v1_response)"
   ]
  },
  {
   "cell_type": "code",
   "execution_count": 19,
   "metadata": {},
   "outputs": [
    {
     "name": "stdout",
     "output_type": "stream",
     "text": [
      "Version 2 Response:\n",
      " Based on the information provided, Drug X-101 has progressed to Phase III trials, which indicates it has successfully completed Phase II trials. In Phase II trials, it demonstrated an efficacy of 75% in treating Alzheimer's.\n"
     ]
    }
   ],
   "source": [
    "# Query version 2\n",
    "v2_index = load_version(new_version)\n",
    "v2_engine = v2_index.as_query_engine()\n",
    "v2_response = v2_engine.query(\"What is the status of Drug X-101?\")\n",
    "print(\"Version 2 Response:\\n\", v2_response)"
   ]
  },
  {
   "cell_type": "code",
   "execution_count": null,
   "metadata": {},
   "outputs": [],
   "source": [
    "#Automatic Versioning\n",
    "from datetime import datetime\n",
    "\n",
    "def get_version_id():\n",
    "    return datetime.now().strftime(\"%Y%m%d_%H%M%S\")\n",
    "\n",
    "version_id = get_version_id()\n",
    "storage_context.persist(persist_dir=f\"./drug_index_{version_id}\")"
   ]
  },
  {
   "cell_type": "code",
   "execution_count": 22,
   "metadata": {},
   "outputs": [
    {
     "name": "stdout",
     "output_type": "stream",
     "text": [
      "Changes in latest version:\n",
      " {'Drug X-101: Phase III trial approved by FDA', 'Drug Z-303: New side effects reported in Phase III trials', 'Compound Y-202: Patent filed in US and EU'}\n"
     ]
    }
   ],
   "source": [
    "#Change Tracking\n",
    "def get_changes(old_index, new_index):\n",
    "    old_docs = set(doc.text for doc in old_index.docstore.docs.values())\n",
    "    new_docs = set(doc.text for doc in new_index.docstore.docs.values())\n",
    "    return new_docs - old_docs\n",
    "\n",
    "changes = get_changes(v1_index, v2_index)\n",
    "print(\"Changes in latest version:\\n\", changes)"
   ]
  },
  {
   "cell_type": "code",
   "execution_count": 23,
   "metadata": {},
   "outputs": [],
   "source": [
    "#Rollback Mechanism\n",
    "def rollback_version(version_id):\n",
    "    storage_context = StorageContext.from_defaults(persist_dir=f\"./drug_index_{version_id}\")\n",
    "    return load_index_from_storage(StorageContext.from_defaults(persist_dir=f\"./drug_index_{version_id}\"))\n",
    "\n",
    "# Rollback to version 1\n",
    "rollback_index = rollback_version(current_version)"
   ]
  }
 ],
 "metadata": {
  "kernelspec": {
   "display_name": "Python 3",
   "language": "python",
   "name": "python3"
  },
  "language_info": {
   "codemirror_mode": {
    "name": "ipython",
    "version": 3
   },
   "file_extension": ".py",
   "mimetype": "text/x-python",
   "name": "python",
   "nbconvert_exporter": "python",
   "pygments_lexer": "ipython3",
   "version": "3.10.0"
  }
 },
 "nbformat": 4,
 "nbformat_minor": 2
}
